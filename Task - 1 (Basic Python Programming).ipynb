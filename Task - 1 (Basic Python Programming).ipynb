{
 "cells": [
  {
   "cell_type": "markdown",
   "id": "2e19ddf6",
   "metadata": {},
   "source": [
    "## Say \"Hello, World!\" With Python"
   ]
  },
  {
   "cell_type": "code",
   "execution_count": 1,
   "id": "e924039c",
   "metadata": {},
   "outputs": [
    {
     "name": "stdout",
     "output_type": "stream",
     "text": [
      "Hello, World!\n"
     ]
    }
   ],
   "source": [
    "print(\"Hello, World!\")"
   ]
  },
  {
   "cell_type": "code",
   "execution_count": null,
   "id": "3cf28c6e",
   "metadata": {},
   "outputs": [],
   "source": []
  },
  {
   "cell_type": "markdown",
   "id": "7fb30c45",
   "metadata": {},
   "source": [
    "## Python If-Else\n",
    "\n",
    "### Task\n",
    "Given an integer,n, perform the following conditional actions: <br>\n",
    "\n",
    "If n is odd, print Weird <br>\n",
    "If n is even and in the inclusive range of 2 to 5, print Not Weird <br>\n",
    "If n is even and in the inclusive range of 6 to 20, print Weird <br>\n",
    "If n is even and greater than 20, print Not Weird"
   ]
  },
  {
   "cell_type": "code",
   "execution_count": 2,
   "id": "16812ce3",
   "metadata": {},
   "outputs": [
    {
     "name": "stdout",
     "output_type": "stream",
     "text": [
      "24\n",
      "Not Weird\n"
     ]
    }
   ],
   "source": [
    "n = int(input().strip())\n",
    "if (n%2 == 0):\n",
    "    if (n in range(2,6) or n>20):\n",
    "        print(\"Not Weird\")\n",
    "    elif (n in range(6,21)):\n",
    "        print(\"Weird\")\n",
    "else:\n",
    "     print(\"Weird\")  "
   ]
  },
  {
   "cell_type": "code",
   "execution_count": null,
   "id": "23bc32ee",
   "metadata": {},
   "outputs": [],
   "source": []
  },
  {
   "cell_type": "markdown",
   "id": "68f3a5ce",
   "metadata": {},
   "source": [
    "## Arithmetic Operators\n",
    "\n",
    "### Task\n",
    "The provided code stub reads two integers from STDIN, a and b. Add code to print three lines where:<br>\n",
    "1.The first line contains the sum of the two numbers.<br>\n",
    "2.The second line contains the difference of the two numbers (first - second).<br>\n",
    "3.The third line contains the product of the two numbers."
   ]
  },
  {
   "cell_type": "code",
   "execution_count": 6,
   "id": "f63f8159",
   "metadata": {},
   "outputs": [
    {
     "name": "stdout",
     "output_type": "stream",
     "text": [
      "3\n",
      "2\n",
      "5\n",
      "1\n",
      "6\n"
     ]
    }
   ],
   "source": [
    "a = int(input())\n",
    "b = int(input())\n",
    "print((a+b),(a-b),(a*b),sep=\"\\n\")"
   ]
  },
  {
   "cell_type": "code",
   "execution_count": null,
   "id": "927a7b26",
   "metadata": {},
   "outputs": [],
   "source": []
  },
  {
   "cell_type": "markdown",
   "id": "b9c402f8",
   "metadata": {},
   "source": [
    "## Python: Division\n",
    "\n",
    "### Task\n",
    "The provided code stub reads two integers, a and b, from STDIN.<br>\n",
    "Add logic to print two lines. The first line should contain the result of integer division,a//b.<br> \n",
    "The second line should contain the result of float division, a/b. <br>\n",
    "No rounding or formatting is necessary."
   ]
  },
  {
   "cell_type": "code",
   "execution_count": 7,
   "id": "4ed776b9",
   "metadata": {},
   "outputs": [
    {
     "name": "stdout",
     "output_type": "stream",
     "text": [
      "4\n",
      "3\n",
      "1\n",
      "1.3333333333333333\n"
     ]
    }
   ],
   "source": [
    "a = int(input())\n",
    "b = int(input())\n",
    "print((a//b),(a/b), sep=\"\\n\")"
   ]
  },
  {
   "cell_type": "code",
   "execution_count": null,
   "id": "56e69b1f",
   "metadata": {},
   "outputs": [],
   "source": []
  },
  {
   "cell_type": "markdown",
   "id": "973f13d3",
   "metadata": {},
   "source": [
    "## Loops\n",
    "\n",
    "### Task\n",
    "The provided code stub reads and integer,n,from STDIN. For all non-negative integers i<n, print i**2."
   ]
  },
  {
   "cell_type": "code",
   "execution_count": 8,
   "id": "566da585",
   "metadata": {},
   "outputs": [
    {
     "name": "stdout",
     "output_type": "stream",
     "text": [
      "5\n",
      "0\n",
      "1\n",
      "4\n",
      "9\n",
      "16\n"
     ]
    }
   ],
   "source": [
    "n = int(input())\n",
    "for i in range(0,n):\n",
    "    print(i**2,sep=\"\\n\")"
   ]
  },
  {
   "cell_type": "code",
   "execution_count": null,
   "id": "043f1ada",
   "metadata": {},
   "outputs": [],
   "source": []
  },
  {
   "cell_type": "markdown",
   "id": "532323cf",
   "metadata": {},
   "source": [
    "## Write a function\n",
    "\n",
    "### Task\n",
    "Given a year, determine whether it is a leap year. If it is a leap year, return the Boolean True, otherwise return False.<br>\n",
    "Note that the code stub provided reads from STDIN and passes arguments to the is_leap function. It is only necessary to complete the is_leap function."
   ]
  },
  {
   "cell_type": "code",
   "execution_count": 9,
   "id": "0b923552",
   "metadata": {},
   "outputs": [
    {
     "name": "stdout",
     "output_type": "stream",
     "text": [
      "1990\n",
      "False\n"
     ]
    }
   ],
   "source": [
    "def is_leap(year):\n",
    "    leap = False\n",
    "    \n",
    "    if (year%4 == 0):\n",
    "        leap = True\n",
    "        if (year%100 == 0):\n",
    "            leap = False\n",
    "        if (year%400 == 0):\n",
    "            leap = True\n",
    "    \n",
    "    return leap\n",
    "\n",
    "year = int(input())\n",
    "print(is_leap(year))"
   ]
  },
  {
   "cell_type": "code",
   "execution_count": null,
   "id": "d294203a",
   "metadata": {},
   "outputs": [],
   "source": []
  },
  {
   "cell_type": "markdown",
   "id": "1b0a72d2",
   "metadata": {},
   "source": [
    "## Print Function\n",
    "\n",
    "The included code stub will read an integer,n,from STDIN. <br>\n",
    "Without using any string methods, try to print the following: <br>\n",
    "123...n <br>\n",
    "Note that \"..\" represents the consecutive values in between."
   ]
  },
  {
   "cell_type": "code",
   "execution_count": 11,
   "id": "d4ef95b0",
   "metadata": {},
   "outputs": [
    {
     "name": "stdout",
     "output_type": "stream",
     "text": [
      "5\n",
      "12345"
     ]
    }
   ],
   "source": [
    "n = int(input())\n",
    "for i in range(0,n):\n",
    "    print(i+1,end=\"\")"
   ]
  }
 ],
 "metadata": {
  "kernelspec": {
   "display_name": "Python 3",
   "language": "python",
   "name": "python3"
  },
  "language_info": {
   "codemirror_mode": {
    "name": "ipython",
    "version": 3
   },
   "file_extension": ".py",
   "mimetype": "text/x-python",
   "name": "python",
   "nbconvert_exporter": "python",
   "pygments_lexer": "ipython3",
   "version": "3.8.8"
  }
 },
 "nbformat": 4,
 "nbformat_minor": 5
}
